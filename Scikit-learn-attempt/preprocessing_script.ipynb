{
 "cells": [
  {
   "cell_type": "code",
   "execution_count": 164,
   "metadata": {},
   "outputs": [],
   "source": [
    "import pandas as pd\n",
    "import numpy as np\n",
    "from nltk.tokenize import word_tokenize\n",
    "from nltk import pos_tag\n",
    "from nltk.corpus import stopwords\n",
    "from nltk.stem import WordNetLemmatizer\n",
    "from sklearn.preprocessing import LabelEncoder\n",
    "from collections import defaultdict\n",
    "from nltk.corpus import wordnet as wn\n",
    "from sklearn.feature_extraction.text import TfidfVectorizer\n",
    "from sklearn import model_selection, naive_bayes, svm\n",
    "from sklearn.metrics import accuracy_score\n"
   ]
  },
  {
   "cell_type": "code",
   "execution_count": 165,
   "metadata": {},
   "outputs": [
    {
     "data": {
      "text/plain": [
       "['I love this girl already, she was so incredibly excited to be here in delta zeta specifically(T,I,E)',\n",
       " ' She wanted to know all about what made me choose DZ, what the house is like, my favorite part about the girls, etc(T,I,E)',\n",
       " ' She kept complimenting our chapter on how well we did everything and how easy it is to talk to us yesterday and today(A,I,E)',\n",
       " ' She said that she sees us as leaders and aspires to be like us(A,I,E)',\n",
       " ' She wants to be a teacher and was very interested in SeriousFun(I,I,E)']"
      ]
     },
     "execution_count": 165,
     "metadata": {},
     "output_type": "execute_result"
    }
   ],
   "source": [
    "#Split the data into sentences\n",
    "with open('/Users/vivek/SororityProject/Data/snippets_1.txt') as f:\n",
    "    lines = f.readlines()\n",
    "corpus =  lines[0]\n",
    "sentences = corpus.split(\".\")\n",
    "sentences[:5]"
   ]
  },
  {
   "cell_type": "code",
   "execution_count": 166,
   "metadata": {},
   "outputs": [],
   "source": [
    "#Merge into dataframe\n",
    "\n",
    "#Sentences\n",
    "#Columns\n",
    "#Column mappings\n",
    "\n",
    "df = pd.DataFrame(columns= ['Text', 'PI Label', 'EI Label'])\n",
    "ind = 0\n",
    "for sentence in sentences:\n",
    "    tup_ind = sentence.find(\"(\")\n",
    "    text = sentence[:tup_ind]\n",
    "    if tup_ind != -1:\n",
    "        label_tup = sentence[tup_ind:][1:-1]\n",
    "        labels = tuple(label_tup.split(\",\"))\n",
    "        if len(labels) == 3:\n",
    "            df.loc[ind] = [text, labels[1], labels[2]]\n",
    "            ind += 1\n",
    "\n",
    "df.replace({\"PI Label\": {'I':1, 'N':0, 'P':2, ' N':0, ' I':1, ' P':2, 'N ':0, 'I ':1, 'P ':2, ' N ':0, ' I ':1, ' P ':2}}, inplace=True)\n",
    "df.replace({\"EI Label\": {'E':1, 'N':0, 'I':2, ' E':1, ' N':0, ' I':2, 'E ':1, 'N ':0, 'I ':2, ' E ':1, ' N ':0, ' I ':2}}, inplace=True)\n",
    "\n",
    "\n",
    "\n",
    "\n",
    "            \n",
    "        \n"
   ]
  },
  {
   "cell_type": "code",
   "execution_count": 167,
   "metadata": {},
   "outputs": [
    {
     "data": {
      "text/html": [
       "<div>\n",
       "<style scoped>\n",
       "    .dataframe tbody tr th:only-of-type {\n",
       "        vertical-align: middle;\n",
       "    }\n",
       "\n",
       "    .dataframe tbody tr th {\n",
       "        vertical-align: top;\n",
       "    }\n",
       "\n",
       "    .dataframe thead th {\n",
       "        text-align: right;\n",
       "    }\n",
       "</style>\n",
       "<table border=\"1\" class=\"dataframe\">\n",
       "  <thead>\n",
       "    <tr style=\"text-align: right;\">\n",
       "      <th></th>\n",
       "      <th>Text</th>\n",
       "      <th>PI Label</th>\n",
       "      <th>EI Label</th>\n",
       "      <th>text_final</th>\n",
       "    </tr>\n",
       "  </thead>\n",
       "  <tbody>\n",
       "    <tr>\n",
       "      <th>0</th>\n",
       "      <td>[i, love, this, girl, already, ,, she, was, so...</td>\n",
       "      <td>1</td>\n",
       "      <td>1</td>\n",
       "      <td>['love', 'girl', 'already', 'incredibly', 'exc...</td>\n",
       "    </tr>\n",
       "    <tr>\n",
       "      <th>1</th>\n",
       "      <td>[she, wanted, to, know, all, about, what, made...</td>\n",
       "      <td>1</td>\n",
       "      <td>1</td>\n",
       "      <td>['want', 'know', 'make', 'choose', 'dz', 'hous...</td>\n",
       "    </tr>\n",
       "    <tr>\n",
       "      <th>2</th>\n",
       "      <td>[she, kept, complimenting, our, chapter, on, h...</td>\n",
       "      <td>1</td>\n",
       "      <td>1</td>\n",
       "      <td>['keep', 'compliment', 'chapter', 'well', 'eve...</td>\n",
       "    </tr>\n",
       "    <tr>\n",
       "      <th>3</th>\n",
       "      <td>[she, said, that, she, sees, us, as, leaders, ...</td>\n",
       "      <td>1</td>\n",
       "      <td>1</td>\n",
       "      <td>['say', 'see', 'u', 'leader', 'aspires', 'like...</td>\n",
       "    </tr>\n",
       "    <tr>\n",
       "      <th>4</th>\n",
       "      <td>[she, wants, to, be, a, teacher, and, was, ver...</td>\n",
       "      <td>1</td>\n",
       "      <td>1</td>\n",
       "      <td>['want', 'teacher', 'interested', 'seriousfun']</td>\n",
       "    </tr>\n",
       "    <tr>\n",
       "      <th>...</th>\n",
       "      <td>...</td>\n",
       "      <td>...</td>\n",
       "      <td>...</td>\n",
       "      <td>...</td>\n",
       "    </tr>\n",
       "    <tr>\n",
       "      <th>96</th>\n",
       "      <td>[having, reviewed, the, sorority, candidate, '...</td>\n",
       "      <td>0</td>\n",
       "      <td>0</td>\n",
       "      <td>['review', 'sorority', 'candidate', 'applicati...</td>\n",
       "    </tr>\n",
       "    <tr>\n",
       "      <th>97</th>\n",
       "      <td>[her, passion, for, promoting, diversity, and,...</td>\n",
       "      <td>1</td>\n",
       "      <td>1</td>\n",
       "      <td>['passion', 'promote', 'diversity', 'inclusion...</td>\n",
       "    </tr>\n",
       "    <tr>\n",
       "      <th>98</th>\n",
       "      <td>[her, past, involvement, in, leadership, posit...</td>\n",
       "      <td>1</td>\n",
       "      <td>1</td>\n",
       "      <td>['past', 'involvement', 'leadership', 'positio...</td>\n",
       "    </tr>\n",
       "    <tr>\n",
       "      <th>99</th>\n",
       "      <td>[her, friendly, and, outgoing, demeanor, would...</td>\n",
       "      <td>1</td>\n",
       "      <td>1</td>\n",
       "      <td>['friendly', 'outgoing', 'demeanor', 'would', ...</td>\n",
       "    </tr>\n",
       "    <tr>\n",
       "      <th>100</th>\n",
       "      <td>[overall, ,, i, believe, this, candidate, has,...</td>\n",
       "      <td>0</td>\n",
       "      <td>0</td>\n",
       "      <td>['overall', 'believe', 'candidate', 'potential...</td>\n",
       "    </tr>\n",
       "  </tbody>\n",
       "</table>\n",
       "<p>101 rows × 4 columns</p>\n",
       "</div>"
      ],
      "text/plain": [
       "                                                  Text  PI Label  EI Label  \\\n",
       "0    [i, love, this, girl, already, ,, she, was, so...         1         1   \n",
       "1    [she, wanted, to, know, all, about, what, made...         1         1   \n",
       "2    [she, kept, complimenting, our, chapter, on, h...         1         1   \n",
       "3    [she, said, that, she, sees, us, as, leaders, ...         1         1   \n",
       "4    [she, wants, to, be, a, teacher, and, was, ver...         1         1   \n",
       "..                                                 ...       ...       ...   \n",
       "96   [having, reviewed, the, sorority, candidate, '...         0         0   \n",
       "97   [her, passion, for, promoting, diversity, and,...         1         1   \n",
       "98   [her, past, involvement, in, leadership, posit...         1         1   \n",
       "99   [her, friendly, and, outgoing, demeanor, would...         1         1   \n",
       "100  [overall, ,, i, believe, this, candidate, has,...         0         0   \n",
       "\n",
       "                                            text_final  \n",
       "0    ['love', 'girl', 'already', 'incredibly', 'exc...  \n",
       "1    ['want', 'know', 'make', 'choose', 'dz', 'hous...  \n",
       "2    ['keep', 'compliment', 'chapter', 'well', 'eve...  \n",
       "3    ['say', 'see', 'u', 'leader', 'aspires', 'like...  \n",
       "4      ['want', 'teacher', 'interested', 'seriousfun']  \n",
       "..                                                 ...  \n",
       "96   ['review', 'sorority', 'candidate', 'applicati...  \n",
       "97   ['passion', 'promote', 'diversity', 'inclusion...  \n",
       "98   ['past', 'involvement', 'leadership', 'positio...  \n",
       "99   ['friendly', 'outgoing', 'demeanor', 'would', ...  \n",
       "100  ['overall', 'believe', 'candidate', 'potential...  \n",
       "\n",
       "[101 rows x 4 columns]"
      ]
     },
     "execution_count": 167,
     "metadata": {},
     "output_type": "execute_result"
    }
   ],
   "source": [
    "# Step - a : Remove blank rows if any.\n",
    "df['Text'].dropna(inplace=True)\n",
    "# Step - b : Change all the text to lower case. This is required as python interprets 'dog' and 'DOG' differently\n",
    "df['Text'] = [entry.lower() for entry in df['Text']]\n",
    "# Step - c : Tokenization : In this each entry in the corpus will be broken into set of words\n",
    "df['Text']= [word_tokenize(entry) for entry in df['Text']]\n",
    "# Step - d : Remove Stop words, Non-Numeric and perfom Word Stemming/Lemmenting.\n",
    "# WordNetLemmatizer requires Pos tags to understand if the word is noun or verb or adjective etc. By default it is set to Noun\n",
    "tag_map = defaultdict(lambda : wn.NOUN)\n",
    "tag_map['J'] = wn.ADJ\n",
    "tag_map['V'] = wn.VERB\n",
    "tag_map['R'] = wn.ADV\n",
    "for index,entry in enumerate(df['Text']):\n",
    "    # Declaring Empty List to store the words that follow the rules for this step\n",
    "    Final_words = []\n",
    "    # Initializing WordNetLemmatizer()\n",
    "    word_Lemmatized = WordNetLemmatizer()\n",
    "    # pos_tag function below will provide the 'tag' i.e if the word is Noun(N) or Verb(V) or something else.\n",
    "    for word, tag in pos_tag(entry):\n",
    "        # Below condition is to check for Stop words and consider only alphabets\n",
    "        if word not in stopwords.words('english') and word.isalpha():\n",
    "            word_Final = word_Lemmatized.lemmatize(word,tag_map[tag[0]])\n",
    "            Final_words.append(word_Final)\n",
    "    # The final processed set of words for each iteration will be stored in 'text_final'\n",
    "    df.loc[index,'text_final'] = str(Final_words)\n",
    "df\n",
    "    \n"
   ]
  },
  {
   "cell_type": "code",
   "execution_count": 168,
   "metadata": {},
   "outputs": [],
   "source": [
    "#Train_X, Test_X, Train_Y, Test_Y = model_selection.train_test_split(df['text_final'], df['PI Label'], test_size=0.3)\n",
    "Test_X, Test_Y = df['text_final'].iloc[:24], df['PI Label'].iloc[:24]\n",
    "Train_X, Train_Y = df['text_final'].iloc[24:], df['PI Label'].iloc[24:]"
   ]
  },
  {
   "cell_type": "code",
   "execution_count": 169,
   "metadata": {},
   "outputs": [
    {
     "name": "stdout",
     "output_type": "stream",
     "text": [
      "Naive Bayes Accuracy Score ->  91.66666666666666\n"
     ]
    }
   ],
   "source": [
    "Tfidf_vect = TfidfVectorizer(max_features=5000)\n",
    "Tfidf_vect.fit(df['text_final'])\n",
    "Train_X_Tfidf = Tfidf_vect.transform(Train_X)\n",
    "Test_X_Tfidf = Tfidf_vect.transform(Test_X)\n",
    "\n",
    "Naive = naive_bayes.MultinomialNB()\n",
    "Naive.fit(Train_X_Tfidf,Train_Y)\n",
    "\n",
    "# predict the labels on validation dataset\n",
    "predictions_NB = Naive.predict(Test_X_Tfidf)\n",
    "# Use accuracy_score function to get the accuracy\n",
    "\n",
    "print(\"Naive Bayes Accuracy Score -> \",accuracy_score(predictions_NB, Test_Y)*100)\n",
    "\n",
    "\n",
    "\n",
    "\n",
    "\n"
   ]
  },
  {
   "cell_type": "code",
   "execution_count": 170,
   "metadata": {},
   "outputs": [
    {
     "name": "stdout",
     "output_type": "stream",
     "text": [
      "SVM Accuracy Score ->  91.66666666666666\n"
     ]
    }
   ],
   "source": [
    "# Classifier - Algorithm - SVM\n",
    "# fit the training dataset on the classifier\n",
    "SVM = svm.SVC(C=1.0, kernel='linear', degree=3, gamma='auto')\n",
    "SVM.fit(Train_X_Tfidf,Train_Y)\n",
    "# predict the labels on validation dataset\n",
    "predictions_SVM = SVM.predict(Test_X_Tfidf)\n",
    "# Use accuracy_score function to get the accuracy\n",
    "print(\"SVM Accuracy Score -> \",accuracy_score(predictions_SVM, Test_Y)*100)"
   ]
  },
  {
   "cell_type": "code",
   "execution_count": null,
   "metadata": {},
   "outputs": [],
   "source": []
  }
 ],
 "metadata": {
  "kernelspec": {
   "display_name": "Python 3",
   "language": "python",
   "name": "python3"
  },
  "language_info": {
   "codemirror_mode": {
    "name": "ipython",
    "version": 3
   },
   "file_extension": ".py",
   "mimetype": "text/x-python",
   "name": "python",
   "nbconvert_exporter": "python",
   "pygments_lexer": "ipython3",
   "version": "3.11.0"
  },
  "orig_nbformat": 4,
  "vscode": {
   "interpreter": {
    "hash": "7881ed08c5605f4114ff90ca9b30f7d318cda1a459a034793836305afdc49bf8"
   }
  }
 },
 "nbformat": 4,
 "nbformat_minor": 2
}
