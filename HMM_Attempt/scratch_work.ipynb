{
 "cells": [
  {
   "cell_type": "code",
   "execution_count": 2,
   "metadata": {},
   "outputs": [],
   "source": [
    "import numpy as np\n",
    "from nltk import pos_tag\n",
    "from nltk import RegexpParser"
   ]
  },
  {
   "cell_type": "code",
   "execution_count": 3,
   "metadata": {},
   "outputs": [
    {
     "name": "stdout",
     "output_type": "stream",
     "text": [
      "After Split: ['she', 'wants', 'to', 'be', 'a', 'teacher']\n",
      "After Token: [('she', 'PRP'), ('wants', 'VBZ'), ('to', 'TO'), ('be', 'VB'), ('a', 'DT'), ('teacher', 'NN')]\n"
     ]
    }
   ],
   "source": [
    "text =\"she wants to be a teacher\".split()\n",
    "print(\"After Split:\",text)\n",
    "tokens_tag = pos_tag(text)\n",
    "print(\"After Token:\",tokens_tag)"
   ]
  },
  {
   "cell_type": "code",
   "execution_count": null,
   "metadata": {},
   "outputs": [],
   "source": []
  }
 ],
 "metadata": {
  "kernelspec": {
   "display_name": "Python 3",
   "language": "python",
   "name": "python3"
  },
  "language_info": {
   "codemirror_mode": {
    "name": "ipython",
    "version": 3
   },
   "file_extension": ".py",
   "mimetype": "text/x-python",
   "name": "python",
   "nbconvert_exporter": "python",
   "pygments_lexer": "ipython3",
   "version": "3.11.0"
  },
  "orig_nbformat": 4,
  "vscode": {
   "interpreter": {
    "hash": "7881ed08c5605f4114ff90ca9b30f7d318cda1a459a034793836305afdc49bf8"
   }
  }
 },
 "nbformat": 4,
 "nbformat_minor": 2
}
